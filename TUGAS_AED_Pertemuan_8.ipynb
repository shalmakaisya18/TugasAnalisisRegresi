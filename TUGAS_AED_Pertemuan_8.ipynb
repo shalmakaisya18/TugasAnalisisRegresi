{
  "nbformat": 4,
  "nbformat_minor": 0,
  "metadata": {
    "colab": {
      "provenance": [],
      "authorship_tag": "ABX9TyNADx2LWAseirHpf+LxvgQN",
      "include_colab_link": true
    },
    "kernelspec": {
      "name": "python3",
      "display_name": "Python 3"
    },
    "language_info": {
      "name": "python"
    }
  },
  "cells": [
    {
      "cell_type": "markdown",
      "metadata": {
        "id": "view-in-github",
        "colab_type": "text"
      },
      "source": [
        "<a href=\"https://colab.research.google.com/github/shalmakaisya18/TugasAnalisisRegresi/blob/main/TUGAS_AED_Pertemuan_8.ipynb\" target=\"_parent\"><img src=\"https://colab.research.google.com/assets/colab-badge.svg\" alt=\"Open In Colab\"/></a>"
      ]
    },
    {
      "cell_type": "markdown",
      "source": [
        "## **Tugas Minggu ke-8 Analisis Eksplorasi Data**\n",
        "Shalma Kaisya, G1401221105"
      ],
      "metadata": {
        "id": "8uvEiV60Crsa"
      }
    },
    {
      "cell_type": "markdown",
      "source": [
        "Menggunakan data kpop 4th gen sales yang memperlihatkan artis grup kpop mana yang menunjukan penjualan terbesar."
      ],
      "metadata": {
        "id": "pxjQy9RSLc9J"
      }
    },
    {
      "cell_type": "code",
      "source": [
        "import pandas as pd\n",
        "\n",
        "# Baca file CSV\n",
        "data = pd.read_csv('Kpop 4th gen Sales - Sheet1.csv')\n",
        "data=data.head(500)\n",
        "\n",
        "data"
      ],
      "metadata": {
        "colab": {
          "base_uri": "https://localhost:8080/",
          "height": 424
        },
        "id": "9EZ016F6LRYq",
        "outputId": "ad8c5a33-2059-4bb7-80b6-6d2a4a90c7aa"
      },
      "execution_count": null,
      "outputs": [
        {
          "output_type": "execute_result",
          "data": {
            "text/plain": [
              "      Artist                title        date country   sales  peak_chart\n",
              "0      IZONE             Bloom*iz   2/17/2020     KOR  492504           2\n",
              "1      IZONE             Bloom*iz   2/17/2020     JPN   23960           3\n",
              "2      IZONE               TWELVE  10/21/2020     JPN  135113           1\n",
              "3      IZONE             Color*Iz  10/29/2018     KOR  282816           2\n",
              "4      IZONE             Color*Iz  10/29/2018     JPN  48,734           1\n",
              "..       ...                  ...         ...     ...     ...         ...\n",
              "92  Everglow         Reminiscence    2/3/2020     KOR   30912           4\n",
              "93  Everglow         Reminiscence    2/3/2020     JPN    1649          48\n",
              "94  Everglow        -77.82X-78.29   9/21/2020     KOR   49388           4\n",
              "95  Everglow  Arrival of Everglow   3/18/2019     KOR   28033           6\n",
              "96  Everglow                 Hush   8/19/2019     KOR   28639           5\n",
              "\n",
              "[97 rows x 6 columns]"
            ],
            "text/html": [
              "\n",
              "  <div id=\"df-d6e677c0-894d-4ef6-aedf-8a7d665a73ad\" class=\"colab-df-container\">\n",
              "    <div>\n",
              "<style scoped>\n",
              "    .dataframe tbody tr th:only-of-type {\n",
              "        vertical-align: middle;\n",
              "    }\n",
              "\n",
              "    .dataframe tbody tr th {\n",
              "        vertical-align: top;\n",
              "    }\n",
              "\n",
              "    .dataframe thead th {\n",
              "        text-align: right;\n",
              "    }\n",
              "</style>\n",
              "<table border=\"1\" class=\"dataframe\">\n",
              "  <thead>\n",
              "    <tr style=\"text-align: right;\">\n",
              "      <th></th>\n",
              "      <th>Artist</th>\n",
              "      <th>title</th>\n",
              "      <th>date</th>\n",
              "      <th>country</th>\n",
              "      <th>sales</th>\n",
              "      <th>peak_chart</th>\n",
              "    </tr>\n",
              "  </thead>\n",
              "  <tbody>\n",
              "    <tr>\n",
              "      <th>0</th>\n",
              "      <td>IZONE</td>\n",
              "      <td>Bloom*iz</td>\n",
              "      <td>2/17/2020</td>\n",
              "      <td>KOR</td>\n",
              "      <td>492504</td>\n",
              "      <td>2</td>\n",
              "    </tr>\n",
              "    <tr>\n",
              "      <th>1</th>\n",
              "      <td>IZONE</td>\n",
              "      <td>Bloom*iz</td>\n",
              "      <td>2/17/2020</td>\n",
              "      <td>JPN</td>\n",
              "      <td>23960</td>\n",
              "      <td>3</td>\n",
              "    </tr>\n",
              "    <tr>\n",
              "      <th>2</th>\n",
              "      <td>IZONE</td>\n",
              "      <td>TWELVE</td>\n",
              "      <td>10/21/2020</td>\n",
              "      <td>JPN</td>\n",
              "      <td>135113</td>\n",
              "      <td>1</td>\n",
              "    </tr>\n",
              "    <tr>\n",
              "      <th>3</th>\n",
              "      <td>IZONE</td>\n",
              "      <td>Color*Iz</td>\n",
              "      <td>10/29/2018</td>\n",
              "      <td>KOR</td>\n",
              "      <td>282816</td>\n",
              "      <td>2</td>\n",
              "    </tr>\n",
              "    <tr>\n",
              "      <th>4</th>\n",
              "      <td>IZONE</td>\n",
              "      <td>Color*Iz</td>\n",
              "      <td>10/29/2018</td>\n",
              "      <td>JPN</td>\n",
              "      <td>48,734</td>\n",
              "      <td>1</td>\n",
              "    </tr>\n",
              "    <tr>\n",
              "      <th>...</th>\n",
              "      <td>...</td>\n",
              "      <td>...</td>\n",
              "      <td>...</td>\n",
              "      <td>...</td>\n",
              "      <td>...</td>\n",
              "      <td>...</td>\n",
              "    </tr>\n",
              "    <tr>\n",
              "      <th>92</th>\n",
              "      <td>Everglow</td>\n",
              "      <td>Reminiscence</td>\n",
              "      <td>2/3/2020</td>\n",
              "      <td>KOR</td>\n",
              "      <td>30912</td>\n",
              "      <td>4</td>\n",
              "    </tr>\n",
              "    <tr>\n",
              "      <th>93</th>\n",
              "      <td>Everglow</td>\n",
              "      <td>Reminiscence</td>\n",
              "      <td>2/3/2020</td>\n",
              "      <td>JPN</td>\n",
              "      <td>1649</td>\n",
              "      <td>48</td>\n",
              "    </tr>\n",
              "    <tr>\n",
              "      <th>94</th>\n",
              "      <td>Everglow</td>\n",
              "      <td>-77.82X-78.29</td>\n",
              "      <td>9/21/2020</td>\n",
              "      <td>KOR</td>\n",
              "      <td>49388</td>\n",
              "      <td>4</td>\n",
              "    </tr>\n",
              "    <tr>\n",
              "      <th>95</th>\n",
              "      <td>Everglow</td>\n",
              "      <td>Arrival of Everglow</td>\n",
              "      <td>3/18/2019</td>\n",
              "      <td>KOR</td>\n",
              "      <td>28033</td>\n",
              "      <td>6</td>\n",
              "    </tr>\n",
              "    <tr>\n",
              "      <th>96</th>\n",
              "      <td>Everglow</td>\n",
              "      <td>Hush</td>\n",
              "      <td>8/19/2019</td>\n",
              "      <td>KOR</td>\n",
              "      <td>28639</td>\n",
              "      <td>5</td>\n",
              "    </tr>\n",
              "  </tbody>\n",
              "</table>\n",
              "<p>97 rows × 6 columns</p>\n",
              "</div>\n",
              "    <div class=\"colab-df-buttons\">\n",
              "\n",
              "  <div class=\"colab-df-container\">\n",
              "    <button class=\"colab-df-convert\" onclick=\"convertToInteractive('df-d6e677c0-894d-4ef6-aedf-8a7d665a73ad')\"\n",
              "            title=\"Convert this dataframe to an interactive table.\"\n",
              "            style=\"display:none;\">\n",
              "\n",
              "  <svg xmlns=\"http://www.w3.org/2000/svg\" height=\"24px\" viewBox=\"0 -960 960 960\">\n",
              "    <path d=\"M120-120v-720h720v720H120Zm60-500h600v-160H180v160Zm220 220h160v-160H400v160Zm0 220h160v-160H400v160ZM180-400h160v-160H180v160Zm440 0h160v-160H620v160ZM180-180h160v-160H180v160Zm440 0h160v-160H620v160Z\"/>\n",
              "  </svg>\n",
              "    </button>\n",
              "\n",
              "  <style>\n",
              "    .colab-df-container {\n",
              "      display:flex;\n",
              "      gap: 12px;\n",
              "    }\n",
              "\n",
              "    .colab-df-convert {\n",
              "      background-color: #E8F0FE;\n",
              "      border: none;\n",
              "      border-radius: 50%;\n",
              "      cursor: pointer;\n",
              "      display: none;\n",
              "      fill: #1967D2;\n",
              "      height: 32px;\n",
              "      padding: 0 0 0 0;\n",
              "      width: 32px;\n",
              "    }\n",
              "\n",
              "    .colab-df-convert:hover {\n",
              "      background-color: #E2EBFA;\n",
              "      box-shadow: 0px 1px 2px rgba(60, 64, 67, 0.3), 0px 1px 3px 1px rgba(60, 64, 67, 0.15);\n",
              "      fill: #174EA6;\n",
              "    }\n",
              "\n",
              "    .colab-df-buttons div {\n",
              "      margin-bottom: 4px;\n",
              "    }\n",
              "\n",
              "    [theme=dark] .colab-df-convert {\n",
              "      background-color: #3B4455;\n",
              "      fill: #D2E3FC;\n",
              "    }\n",
              "\n",
              "    [theme=dark] .colab-df-convert:hover {\n",
              "      background-color: #434B5C;\n",
              "      box-shadow: 0px 1px 3px 1px rgba(0, 0, 0, 0.15);\n",
              "      filter: drop-shadow(0px 1px 2px rgba(0, 0, 0, 0.3));\n",
              "      fill: #FFFFFF;\n",
              "    }\n",
              "  </style>\n",
              "\n",
              "    <script>\n",
              "      const buttonEl =\n",
              "        document.querySelector('#df-d6e677c0-894d-4ef6-aedf-8a7d665a73ad button.colab-df-convert');\n",
              "      buttonEl.style.display =\n",
              "        google.colab.kernel.accessAllowed ? 'block' : 'none';\n",
              "\n",
              "      async function convertToInteractive(key) {\n",
              "        const element = document.querySelector('#df-d6e677c0-894d-4ef6-aedf-8a7d665a73ad');\n",
              "        const dataTable =\n",
              "          await google.colab.kernel.invokeFunction('convertToInteractive',\n",
              "                                                    [key], {});\n",
              "        if (!dataTable) return;\n",
              "\n",
              "        const docLinkHtml = 'Like what you see? Visit the ' +\n",
              "          '<a target=\"_blank\" href=https://colab.research.google.com/notebooks/data_table.ipynb>data table notebook</a>'\n",
              "          + ' to learn more about interactive tables.';\n",
              "        element.innerHTML = '';\n",
              "        dataTable['output_type'] = 'display_data';\n",
              "        await google.colab.output.renderOutput(dataTable, element);\n",
              "        const docLink = document.createElement('div');\n",
              "        docLink.innerHTML = docLinkHtml;\n",
              "        element.appendChild(docLink);\n",
              "      }\n",
              "    </script>\n",
              "  </div>\n",
              "\n",
              "\n",
              "<div id=\"df-2117a138-7da2-4694-a5c7-1f8bfc2722fe\">\n",
              "  <button class=\"colab-df-quickchart\" onclick=\"quickchart('df-2117a138-7da2-4694-a5c7-1f8bfc2722fe')\"\n",
              "            title=\"Suggest charts\"\n",
              "            style=\"display:none;\">\n",
              "\n",
              "<svg xmlns=\"http://www.w3.org/2000/svg\" height=\"24px\"viewBox=\"0 0 24 24\"\n",
              "     width=\"24px\">\n",
              "    <g>\n",
              "        <path d=\"M19 3H5c-1.1 0-2 .9-2 2v14c0 1.1.9 2 2 2h14c1.1 0 2-.9 2-2V5c0-1.1-.9-2-2-2zM9 17H7v-7h2v7zm4 0h-2V7h2v10zm4 0h-2v-4h2v4z\"/>\n",
              "    </g>\n",
              "</svg>\n",
              "  </button>\n",
              "\n",
              "<style>\n",
              "  .colab-df-quickchart {\n",
              "      --bg-color: #E8F0FE;\n",
              "      --fill-color: #1967D2;\n",
              "      --hover-bg-color: #E2EBFA;\n",
              "      --hover-fill-color: #174EA6;\n",
              "      --disabled-fill-color: #AAA;\n",
              "      --disabled-bg-color: #DDD;\n",
              "  }\n",
              "\n",
              "  [theme=dark] .colab-df-quickchart {\n",
              "      --bg-color: #3B4455;\n",
              "      --fill-color: #D2E3FC;\n",
              "      --hover-bg-color: #434B5C;\n",
              "      --hover-fill-color: #FFFFFF;\n",
              "      --disabled-bg-color: #3B4455;\n",
              "      --disabled-fill-color: #666;\n",
              "  }\n",
              "\n",
              "  .colab-df-quickchart {\n",
              "    background-color: var(--bg-color);\n",
              "    border: none;\n",
              "    border-radius: 50%;\n",
              "    cursor: pointer;\n",
              "    display: none;\n",
              "    fill: var(--fill-color);\n",
              "    height: 32px;\n",
              "    padding: 0;\n",
              "    width: 32px;\n",
              "  }\n",
              "\n",
              "  .colab-df-quickchart:hover {\n",
              "    background-color: var(--hover-bg-color);\n",
              "    box-shadow: 0 1px 2px rgba(60, 64, 67, 0.3), 0 1px 3px 1px rgba(60, 64, 67, 0.15);\n",
              "    fill: var(--button-hover-fill-color);\n",
              "  }\n",
              "\n",
              "  .colab-df-quickchart-complete:disabled,\n",
              "  .colab-df-quickchart-complete:disabled:hover {\n",
              "    background-color: var(--disabled-bg-color);\n",
              "    fill: var(--disabled-fill-color);\n",
              "    box-shadow: none;\n",
              "  }\n",
              "\n",
              "  .colab-df-spinner {\n",
              "    border: 2px solid var(--fill-color);\n",
              "    border-color: transparent;\n",
              "    border-bottom-color: var(--fill-color);\n",
              "    animation:\n",
              "      spin 1s steps(1) infinite;\n",
              "  }\n",
              "\n",
              "  @keyframes spin {\n",
              "    0% {\n",
              "      border-color: transparent;\n",
              "      border-bottom-color: var(--fill-color);\n",
              "      border-left-color: var(--fill-color);\n",
              "    }\n",
              "    20% {\n",
              "      border-color: transparent;\n",
              "      border-left-color: var(--fill-color);\n",
              "      border-top-color: var(--fill-color);\n",
              "    }\n",
              "    30% {\n",
              "      border-color: transparent;\n",
              "      border-left-color: var(--fill-color);\n",
              "      border-top-color: var(--fill-color);\n",
              "      border-right-color: var(--fill-color);\n",
              "    }\n",
              "    40% {\n",
              "      border-color: transparent;\n",
              "      border-right-color: var(--fill-color);\n",
              "      border-top-color: var(--fill-color);\n",
              "    }\n",
              "    60% {\n",
              "      border-color: transparent;\n",
              "      border-right-color: var(--fill-color);\n",
              "    }\n",
              "    80% {\n",
              "      border-color: transparent;\n",
              "      border-right-color: var(--fill-color);\n",
              "      border-bottom-color: var(--fill-color);\n",
              "    }\n",
              "    90% {\n",
              "      border-color: transparent;\n",
              "      border-bottom-color: var(--fill-color);\n",
              "    }\n",
              "  }\n",
              "</style>\n",
              "\n",
              "  <script>\n",
              "    async function quickchart(key) {\n",
              "      const quickchartButtonEl =\n",
              "        document.querySelector('#' + key + ' button');\n",
              "      quickchartButtonEl.disabled = true;  // To prevent multiple clicks.\n",
              "      quickchartButtonEl.classList.add('colab-df-spinner');\n",
              "      try {\n",
              "        const charts = await google.colab.kernel.invokeFunction(\n",
              "            'suggestCharts', [key], {});\n",
              "      } catch (error) {\n",
              "        console.error('Error during call to suggestCharts:', error);\n",
              "      }\n",
              "      quickchartButtonEl.classList.remove('colab-df-spinner');\n",
              "      quickchartButtonEl.classList.add('colab-df-quickchart-complete');\n",
              "    }\n",
              "    (() => {\n",
              "      let quickchartButtonEl =\n",
              "        document.querySelector('#df-2117a138-7da2-4694-a5c7-1f8bfc2722fe button');\n",
              "      quickchartButtonEl.style.display =\n",
              "        google.colab.kernel.accessAllowed ? 'block' : 'none';\n",
              "    })();\n",
              "  </script>\n",
              "</div>\n",
              "    </div>\n",
              "  </div>\n"
            ],
            "application/vnd.google.colaboratory.intrinsic+json": {
              "type": "dataframe",
              "variable_name": "data",
              "summary": "{\n  \"name\": \"data\",\n  \"rows\": 97,\n  \"fields\": [\n    {\n      \"column\": \"Artist\",\n      \"properties\": {\n        \"dtype\": \"category\",\n        \"num_unique_values\": 11,\n        \"samples\": [\n          \"(G)I-dle\",\n          \"IZONE\",\n          \"Ateez\"\n        ],\n        \"semantic_type\": \"\",\n        \"description\": \"\"\n      }\n    },\n    {\n      \"column\": \"title\",\n      \"properties\": {\n        \"dtype\": \"string\",\n        \"num_unique_values\": 66,\n        \"samples\": [\n          \"Into the A to Z\",\n          \"Reminiscence\",\n          \"Bloom*iz\"\n        ],\n        \"semantic_type\": \"\",\n        \"description\": \"\"\n      }\n    },\n    {\n      \"column\": \"date\",\n      \"properties\": {\n        \"dtype\": \"object\",\n        \"num_unique_values\": 66,\n        \"samples\": [\n          \"3/24/2021\",\n          \"2/3/2020\",\n          \"2/17/2020\"\n        ],\n        \"semantic_type\": \"\",\n        \"description\": \"\"\n      }\n    },\n    {\n      \"column\": \"country\",\n      \"properties\": {\n        \"dtype\": \"category\",\n        \"num_unique_values\": 3,\n        \"samples\": [\n          \"KOR\",\n          \"JPN\",\n          \"CHN\"\n        ],\n        \"semantic_type\": \"\",\n        \"description\": \"\"\n      }\n    },\n    {\n      \"column\": \"sales\",\n      \"properties\": {\n        \"dtype\": \"string\",\n        \"num_unique_values\": 97,\n        \"samples\": [\n          \"24080\",\n          \"102041\",\n          \"1649\"\n        ],\n        \"semantic_type\": \"\",\n        \"description\": \"\"\n      }\n    },\n    {\n      \"column\": \"peak_chart\",\n      \"properties\": {\n        \"dtype\": \"number\",\n        \"std\": 10,\n        \"min\": 0,\n        \"max\": 48,\n        \"num_unique_values\": 25,\n        \"samples\": [\n          47,\n          23,\n          2\n        ],\n        \"semantic_type\": \"\",\n        \"description\": \"\"\n      }\n    }\n  ]\n}"
            }
          },
          "metadata": {},
          "execution_count": 24
        }
      ]
    },
    {
      "cell_type": "code",
      "source": [
        "print(data.head())\n"
      ],
      "metadata": {
        "colab": {
          "base_uri": "https://localhost:8080/"
        },
        "id": "I-loh7vUDA3H",
        "outputId": "44315546-1f42-4a9f-b2f1-3f29a913d4c0"
      },
      "execution_count": null,
      "outputs": [
        {
          "output_type": "stream",
          "name": "stdout",
          "text": [
            "  Artist     title        date country   sales  peak_chart\n",
            "0  IZONE  Bloom*iz   2/17/2020     KOR  492504           2\n",
            "1  IZONE  Bloom*iz   2/17/2020     JPN   23960           3\n",
            "2  IZONE    TWELVE  10/21/2020     JPN  135113           1\n",
            "3  IZONE  Color*Iz  10/29/2018     KOR  282816           2\n",
            "4  IZONE  Color*Iz  10/29/2018     JPN  48,734           1\n"
          ]
        }
      ]
    },
    {
      "cell_type": "code",
      "source": [
        "print(data.dtypes)\n"
      ],
      "metadata": {
        "colab": {
          "base_uri": "https://localhost:8080/"
        },
        "id": "-oSO0ruyVuKl",
        "outputId": "36f9cf82-44d2-4196-ebf0-c38301335f31"
      },
      "execution_count": null,
      "outputs": [
        {
          "output_type": "stream",
          "name": "stdout",
          "text": [
            "Artist        object\n",
            "title         object\n",
            "date          object\n",
            "country       object\n",
            "sales         object\n",
            "peak_chart     int64\n",
            "dtype: object\n"
          ]
        }
      ]
    },
    {
      "cell_type": "code",
      "source": [
        "import pandas as pd\n",
        "\n",
        "# Mengubah tipe data 'date' menjadi datetime\n",
        "data['date'] = pd.to_datetime(data['date'])\n",
        "\n",
        "# Mengubah tipe data 'sales' menjadi int64\n",
        "data['sales'] = data['sales'].str.replace(',', '').str.strip().astype('int64')\n",
        "\n",
        "# Menampilkan informasi tentang DataFrame setelah perubahan\n",
        "data.info()\n"
      ],
      "metadata": {
        "colab": {
          "base_uri": "https://localhost:8080/"
        },
        "id": "8RYfPIMqWKdB",
        "outputId": "cc3aa61e-41a5-434b-a287-8875bd8258c0"
      },
      "execution_count": null,
      "outputs": [
        {
          "output_type": "stream",
          "name": "stdout",
          "text": [
            "<class 'pandas.core.frame.DataFrame'>\n",
            "RangeIndex: 97 entries, 0 to 96\n",
            "Data columns (total 6 columns):\n",
            " #   Column      Non-Null Count  Dtype         \n",
            "---  ------      --------------  -----         \n",
            " 0   Artist      97 non-null     object        \n",
            " 1   title       97 non-null     object        \n",
            " 2   date        97 non-null     datetime64[ns]\n",
            " 3   country     97 non-null     object        \n",
            " 4   sales       97 non-null     int64         \n",
            " 5   peak_chart  97 non-null     int64         \n",
            "dtypes: datetime64[ns](1), int64(2), object(3)\n",
            "memory usage: 4.7+ KB\n"
          ]
        }
      ]
    },
    {
      "cell_type": "code",
      "source": [
        "### memeriksa nilai nol\n",
        "\n",
        "data.isnull().sum().sort_values(ascending=False)"
      ],
      "metadata": {
        "colab": {
          "base_uri": "https://localhost:8080/"
        },
        "id": "pcgNzSnqWbd5",
        "outputId": "afaa0afa-422b-4bcc-e432-69d69dc9c1e1"
      },
      "execution_count": null,
      "outputs": [
        {
          "output_type": "execute_result",
          "data": {
            "text/plain": [
              "Artist        0\n",
              "title         0\n",
              "date          0\n",
              "country       0\n",
              "sales         0\n",
              "peak_chart    0\n",
              "dtype: int64"
            ]
          },
          "metadata": {},
          "execution_count": 33
        }
      ]
    },
    {
      "cell_type": "code",
      "source": [
        "data.describe(include='object').T"
      ],
      "metadata": {
        "colab": {
          "base_uri": "https://localhost:8080/",
          "height": 143
        },
        "id": "ORX0mxZHWmrx",
        "outputId": "cd0338ba-bd3b-4ee7-db92-b96b3340882b"
      },
      "execution_count": null,
      "outputs": [
        {
          "output_type": "execute_result",
          "data": {
            "text/plain": [
              "        count unique                                                top freq\n",
              "Artist     97     11                                         Stray Kids   17\n",
              "title      97     66  Season 2. Hideout: The New Day We Step Into\\t\\r\\n    4\n",
              "country    97      3                                                KOR   59"
            ],
            "text/html": [
              "\n",
              "  <div id=\"df-0d768459-9bed-4221-a6f9-f975abbe9198\" class=\"colab-df-container\">\n",
              "    <div>\n",
              "<style scoped>\n",
              "    .dataframe tbody tr th:only-of-type {\n",
              "        vertical-align: middle;\n",
              "    }\n",
              "\n",
              "    .dataframe tbody tr th {\n",
              "        vertical-align: top;\n",
              "    }\n",
              "\n",
              "    .dataframe thead th {\n",
              "        text-align: right;\n",
              "    }\n",
              "</style>\n",
              "<table border=\"1\" class=\"dataframe\">\n",
              "  <thead>\n",
              "    <tr style=\"text-align: right;\">\n",
              "      <th></th>\n",
              "      <th>count</th>\n",
              "      <th>unique</th>\n",
              "      <th>top</th>\n",
              "      <th>freq</th>\n",
              "    </tr>\n",
              "  </thead>\n",
              "  <tbody>\n",
              "    <tr>\n",
              "      <th>Artist</th>\n",
              "      <td>97</td>\n",
              "      <td>11</td>\n",
              "      <td>Stray Kids</td>\n",
              "      <td>17</td>\n",
              "    </tr>\n",
              "    <tr>\n",
              "      <th>title</th>\n",
              "      <td>97</td>\n",
              "      <td>66</td>\n",
              "      <td>Season 2. Hideout: The New Day We Step Into\\t\\r\\n</td>\n",
              "      <td>4</td>\n",
              "    </tr>\n",
              "    <tr>\n",
              "      <th>country</th>\n",
              "      <td>97</td>\n",
              "      <td>3</td>\n",
              "      <td>KOR</td>\n",
              "      <td>59</td>\n",
              "    </tr>\n",
              "  </tbody>\n",
              "</table>\n",
              "</div>\n",
              "    <div class=\"colab-df-buttons\">\n",
              "\n",
              "  <div class=\"colab-df-container\">\n",
              "    <button class=\"colab-df-convert\" onclick=\"convertToInteractive('df-0d768459-9bed-4221-a6f9-f975abbe9198')\"\n",
              "            title=\"Convert this dataframe to an interactive table.\"\n",
              "            style=\"display:none;\">\n",
              "\n",
              "  <svg xmlns=\"http://www.w3.org/2000/svg\" height=\"24px\" viewBox=\"0 -960 960 960\">\n",
              "    <path d=\"M120-120v-720h720v720H120Zm60-500h600v-160H180v160Zm220 220h160v-160H400v160Zm0 220h160v-160H400v160ZM180-400h160v-160H180v160Zm440 0h160v-160H620v160ZM180-180h160v-160H180v160Zm440 0h160v-160H620v160Z\"/>\n",
              "  </svg>\n",
              "    </button>\n",
              "\n",
              "  <style>\n",
              "    .colab-df-container {\n",
              "      display:flex;\n",
              "      gap: 12px;\n",
              "    }\n",
              "\n",
              "    .colab-df-convert {\n",
              "      background-color: #E8F0FE;\n",
              "      border: none;\n",
              "      border-radius: 50%;\n",
              "      cursor: pointer;\n",
              "      display: none;\n",
              "      fill: #1967D2;\n",
              "      height: 32px;\n",
              "      padding: 0 0 0 0;\n",
              "      width: 32px;\n",
              "    }\n",
              "\n",
              "    .colab-df-convert:hover {\n",
              "      background-color: #E2EBFA;\n",
              "      box-shadow: 0px 1px 2px rgba(60, 64, 67, 0.3), 0px 1px 3px 1px rgba(60, 64, 67, 0.15);\n",
              "      fill: #174EA6;\n",
              "    }\n",
              "\n",
              "    .colab-df-buttons div {\n",
              "      margin-bottom: 4px;\n",
              "    }\n",
              "\n",
              "    [theme=dark] .colab-df-convert {\n",
              "      background-color: #3B4455;\n",
              "      fill: #D2E3FC;\n",
              "    }\n",
              "\n",
              "    [theme=dark] .colab-df-convert:hover {\n",
              "      background-color: #434B5C;\n",
              "      box-shadow: 0px 1px 3px 1px rgba(0, 0, 0, 0.15);\n",
              "      filter: drop-shadow(0px 1px 2px rgba(0, 0, 0, 0.3));\n",
              "      fill: #FFFFFF;\n",
              "    }\n",
              "  </style>\n",
              "\n",
              "    <script>\n",
              "      const buttonEl =\n",
              "        document.querySelector('#df-0d768459-9bed-4221-a6f9-f975abbe9198 button.colab-df-convert');\n",
              "      buttonEl.style.display =\n",
              "        google.colab.kernel.accessAllowed ? 'block' : 'none';\n",
              "\n",
              "      async function convertToInteractive(key) {\n",
              "        const element = document.querySelector('#df-0d768459-9bed-4221-a6f9-f975abbe9198');\n",
              "        const dataTable =\n",
              "          await google.colab.kernel.invokeFunction('convertToInteractive',\n",
              "                                                    [key], {});\n",
              "        if (!dataTable) return;\n",
              "\n",
              "        const docLinkHtml = 'Like what you see? Visit the ' +\n",
              "          '<a target=\"_blank\" href=https://colab.research.google.com/notebooks/data_table.ipynb>data table notebook</a>'\n",
              "          + ' to learn more about interactive tables.';\n",
              "        element.innerHTML = '';\n",
              "        dataTable['output_type'] = 'display_data';\n",
              "        await google.colab.output.renderOutput(dataTable, element);\n",
              "        const docLink = document.createElement('div');\n",
              "        docLink.innerHTML = docLinkHtml;\n",
              "        element.appendChild(docLink);\n",
              "      }\n",
              "    </script>\n",
              "  </div>\n",
              "\n",
              "\n",
              "<div id=\"df-e6089ae8-51a9-4acc-beb3-50f26ccf14ad\">\n",
              "  <button class=\"colab-df-quickchart\" onclick=\"quickchart('df-e6089ae8-51a9-4acc-beb3-50f26ccf14ad')\"\n",
              "            title=\"Suggest charts\"\n",
              "            style=\"display:none;\">\n",
              "\n",
              "<svg xmlns=\"http://www.w3.org/2000/svg\" height=\"24px\"viewBox=\"0 0 24 24\"\n",
              "     width=\"24px\">\n",
              "    <g>\n",
              "        <path d=\"M19 3H5c-1.1 0-2 .9-2 2v14c0 1.1.9 2 2 2h14c1.1 0 2-.9 2-2V5c0-1.1-.9-2-2-2zM9 17H7v-7h2v7zm4 0h-2V7h2v10zm4 0h-2v-4h2v4z\"/>\n",
              "    </g>\n",
              "</svg>\n",
              "  </button>\n",
              "\n",
              "<style>\n",
              "  .colab-df-quickchart {\n",
              "      --bg-color: #E8F0FE;\n",
              "      --fill-color: #1967D2;\n",
              "      --hover-bg-color: #E2EBFA;\n",
              "      --hover-fill-color: #174EA6;\n",
              "      --disabled-fill-color: #AAA;\n",
              "      --disabled-bg-color: #DDD;\n",
              "  }\n",
              "\n",
              "  [theme=dark] .colab-df-quickchart {\n",
              "      --bg-color: #3B4455;\n",
              "      --fill-color: #D2E3FC;\n",
              "      --hover-bg-color: #434B5C;\n",
              "      --hover-fill-color: #FFFFFF;\n",
              "      --disabled-bg-color: #3B4455;\n",
              "      --disabled-fill-color: #666;\n",
              "  }\n",
              "\n",
              "  .colab-df-quickchart {\n",
              "    background-color: var(--bg-color);\n",
              "    border: none;\n",
              "    border-radius: 50%;\n",
              "    cursor: pointer;\n",
              "    display: none;\n",
              "    fill: var(--fill-color);\n",
              "    height: 32px;\n",
              "    padding: 0;\n",
              "    width: 32px;\n",
              "  }\n",
              "\n",
              "  .colab-df-quickchart:hover {\n",
              "    background-color: var(--hover-bg-color);\n",
              "    box-shadow: 0 1px 2px rgba(60, 64, 67, 0.3), 0 1px 3px 1px rgba(60, 64, 67, 0.15);\n",
              "    fill: var(--button-hover-fill-color);\n",
              "  }\n",
              "\n",
              "  .colab-df-quickchart-complete:disabled,\n",
              "  .colab-df-quickchart-complete:disabled:hover {\n",
              "    background-color: var(--disabled-bg-color);\n",
              "    fill: var(--disabled-fill-color);\n",
              "    box-shadow: none;\n",
              "  }\n",
              "\n",
              "  .colab-df-spinner {\n",
              "    border: 2px solid var(--fill-color);\n",
              "    border-color: transparent;\n",
              "    border-bottom-color: var(--fill-color);\n",
              "    animation:\n",
              "      spin 1s steps(1) infinite;\n",
              "  }\n",
              "\n",
              "  @keyframes spin {\n",
              "    0% {\n",
              "      border-color: transparent;\n",
              "      border-bottom-color: var(--fill-color);\n",
              "      border-left-color: var(--fill-color);\n",
              "    }\n",
              "    20% {\n",
              "      border-color: transparent;\n",
              "      border-left-color: var(--fill-color);\n",
              "      border-top-color: var(--fill-color);\n",
              "    }\n",
              "    30% {\n",
              "      border-color: transparent;\n",
              "      border-left-color: var(--fill-color);\n",
              "      border-top-color: var(--fill-color);\n",
              "      border-right-color: var(--fill-color);\n",
              "    }\n",
              "    40% {\n",
              "      border-color: transparent;\n",
              "      border-right-color: var(--fill-color);\n",
              "      border-top-color: var(--fill-color);\n",
              "    }\n",
              "    60% {\n",
              "      border-color: transparent;\n",
              "      border-right-color: var(--fill-color);\n",
              "    }\n",
              "    80% {\n",
              "      border-color: transparent;\n",
              "      border-right-color: var(--fill-color);\n",
              "      border-bottom-color: var(--fill-color);\n",
              "    }\n",
              "    90% {\n",
              "      border-color: transparent;\n",
              "      border-bottom-color: var(--fill-color);\n",
              "    }\n",
              "  }\n",
              "</style>\n",
              "\n",
              "  <script>\n",
              "    async function quickchart(key) {\n",
              "      const quickchartButtonEl =\n",
              "        document.querySelector('#' + key + ' button');\n",
              "      quickchartButtonEl.disabled = true;  // To prevent multiple clicks.\n",
              "      quickchartButtonEl.classList.add('colab-df-spinner');\n",
              "      try {\n",
              "        const charts = await google.colab.kernel.invokeFunction(\n",
              "            'suggestCharts', [key], {});\n",
              "      } catch (error) {\n",
              "        console.error('Error during call to suggestCharts:', error);\n",
              "      }\n",
              "      quickchartButtonEl.classList.remove('colab-df-spinner');\n",
              "      quickchartButtonEl.classList.add('colab-df-quickchart-complete');\n",
              "    }\n",
              "    (() => {\n",
              "      let quickchartButtonEl =\n",
              "        document.querySelector('#df-e6089ae8-51a9-4acc-beb3-50f26ccf14ad button');\n",
              "      quickchartButtonEl.style.display =\n",
              "        google.colab.kernel.accessAllowed ? 'block' : 'none';\n",
              "    })();\n",
              "  </script>\n",
              "</div>\n",
              "    </div>\n",
              "  </div>\n"
            ],
            "application/vnd.google.colaboratory.intrinsic+json": {
              "type": "dataframe",
              "summary": "{\n  \"name\": \"data\",\n  \"rows\": 3,\n  \"fields\": [\n    {\n      \"column\": \"count\",\n      \"properties\": {\n        \"dtype\": \"date\",\n        \"min\": \"97\",\n        \"max\": \"97\",\n        \"num_unique_values\": 1,\n        \"samples\": [\n          \"97\"\n        ],\n        \"semantic_type\": \"\",\n        \"description\": \"\"\n      }\n    },\n    {\n      \"column\": \"unique\",\n      \"properties\": {\n        \"dtype\": \"date\",\n        \"min\": 3,\n        \"max\": 66,\n        \"num_unique_values\": 3,\n        \"samples\": [\n          11\n        ],\n        \"semantic_type\": \"\",\n        \"description\": \"\"\n      }\n    },\n    {\n      \"column\": \"top\",\n      \"properties\": {\n        \"dtype\": \"string\",\n        \"num_unique_values\": 3,\n        \"samples\": [\n          \"Stray Kids\"\n        ],\n        \"semantic_type\": \"\",\n        \"description\": \"\"\n      }\n    },\n    {\n      \"column\": \"freq\",\n      \"properties\": {\n        \"dtype\": \"date\",\n        \"min\": \"4\",\n        \"max\": \"59\",\n        \"num_unique_values\": 3,\n        \"samples\": [\n          \"17\"\n        ],\n        \"semantic_type\": \"\",\n        \"description\": \"\"\n      }\n    }\n  ]\n}"
            }
          },
          "metadata": {},
          "execution_count": 34
        }
      ]
    },
    {
      "cell_type": "code",
      "source": [
        "### Buat kolom baru untuk bulan, hari, dan tahun\n",
        "\n",
        "from datetime import datetime as dt\n",
        "\n",
        "data['month'] = data['date'].dt.month_name()\n",
        "data['day'] = data['date'].dt.day_name()\n",
        "data['year'] = data['date'].dt.year\n",
        "\n",
        "data.head()\n"
      ],
      "metadata": {
        "colab": {
          "base_uri": "https://localhost:8080/",
          "height": 206
        },
        "id": "jS6A76CKWqgG",
        "outputId": "fee86008-49bb-425e-af4d-313d12f90e6d"
      },
      "execution_count": null,
      "outputs": [
        {
          "output_type": "execute_result",
          "data": {
            "text/plain": [
              "  Artist     title       date country   sales  peak_chart     month  \\\n",
              "0  IZONE  Bloom*iz 2020-02-17     KOR  492504           2  February   \n",
              "1  IZONE  Bloom*iz 2020-02-17     JPN   23960           3  February   \n",
              "2  IZONE    TWELVE 2020-10-21     JPN  135113           1   October   \n",
              "3  IZONE  Color*Iz 2018-10-29     KOR  282816           2   October   \n",
              "4  IZONE  Color*Iz 2018-10-29     JPN   48734           1   October   \n",
              "\n",
              "         day  year  \n",
              "0     Monday  2020  \n",
              "1     Monday  2020  \n",
              "2  Wednesday  2020  \n",
              "3     Monday  2018  \n",
              "4     Monday  2018  "
            ],
            "text/html": [
              "\n",
              "  <div id=\"df-41aed412-03ce-4e56-9a09-4de58b250df5\" class=\"colab-df-container\">\n",
              "    <div>\n",
              "<style scoped>\n",
              "    .dataframe tbody tr th:only-of-type {\n",
              "        vertical-align: middle;\n",
              "    }\n",
              "\n",
              "    .dataframe tbody tr th {\n",
              "        vertical-align: top;\n",
              "    }\n",
              "\n",
              "    .dataframe thead th {\n",
              "        text-align: right;\n",
              "    }\n",
              "</style>\n",
              "<table border=\"1\" class=\"dataframe\">\n",
              "  <thead>\n",
              "    <tr style=\"text-align: right;\">\n",
              "      <th></th>\n",
              "      <th>Artist</th>\n",
              "      <th>title</th>\n",
              "      <th>date</th>\n",
              "      <th>country</th>\n",
              "      <th>sales</th>\n",
              "      <th>peak_chart</th>\n",
              "      <th>month</th>\n",
              "      <th>day</th>\n",
              "      <th>year</th>\n",
              "    </tr>\n",
              "  </thead>\n",
              "  <tbody>\n",
              "    <tr>\n",
              "      <th>0</th>\n",
              "      <td>IZONE</td>\n",
              "      <td>Bloom*iz</td>\n",
              "      <td>2020-02-17</td>\n",
              "      <td>KOR</td>\n",
              "      <td>492504</td>\n",
              "      <td>2</td>\n",
              "      <td>February</td>\n",
              "      <td>Monday</td>\n",
              "      <td>2020</td>\n",
              "    </tr>\n",
              "    <tr>\n",
              "      <th>1</th>\n",
              "      <td>IZONE</td>\n",
              "      <td>Bloom*iz</td>\n",
              "      <td>2020-02-17</td>\n",
              "      <td>JPN</td>\n",
              "      <td>23960</td>\n",
              "      <td>3</td>\n",
              "      <td>February</td>\n",
              "      <td>Monday</td>\n",
              "      <td>2020</td>\n",
              "    </tr>\n",
              "    <tr>\n",
              "      <th>2</th>\n",
              "      <td>IZONE</td>\n",
              "      <td>TWELVE</td>\n",
              "      <td>2020-10-21</td>\n",
              "      <td>JPN</td>\n",
              "      <td>135113</td>\n",
              "      <td>1</td>\n",
              "      <td>October</td>\n",
              "      <td>Wednesday</td>\n",
              "      <td>2020</td>\n",
              "    </tr>\n",
              "    <tr>\n",
              "      <th>3</th>\n",
              "      <td>IZONE</td>\n",
              "      <td>Color*Iz</td>\n",
              "      <td>2018-10-29</td>\n",
              "      <td>KOR</td>\n",
              "      <td>282816</td>\n",
              "      <td>2</td>\n",
              "      <td>October</td>\n",
              "      <td>Monday</td>\n",
              "      <td>2018</td>\n",
              "    </tr>\n",
              "    <tr>\n",
              "      <th>4</th>\n",
              "      <td>IZONE</td>\n",
              "      <td>Color*Iz</td>\n",
              "      <td>2018-10-29</td>\n",
              "      <td>JPN</td>\n",
              "      <td>48734</td>\n",
              "      <td>1</td>\n",
              "      <td>October</td>\n",
              "      <td>Monday</td>\n",
              "      <td>2018</td>\n",
              "    </tr>\n",
              "  </tbody>\n",
              "</table>\n",
              "</div>\n",
              "    <div class=\"colab-df-buttons\">\n",
              "\n",
              "  <div class=\"colab-df-container\">\n",
              "    <button class=\"colab-df-convert\" onclick=\"convertToInteractive('df-41aed412-03ce-4e56-9a09-4de58b250df5')\"\n",
              "            title=\"Convert this dataframe to an interactive table.\"\n",
              "            style=\"display:none;\">\n",
              "\n",
              "  <svg xmlns=\"http://www.w3.org/2000/svg\" height=\"24px\" viewBox=\"0 -960 960 960\">\n",
              "    <path d=\"M120-120v-720h720v720H120Zm60-500h600v-160H180v160Zm220 220h160v-160H400v160Zm0 220h160v-160H400v160ZM180-400h160v-160H180v160Zm440 0h160v-160H620v160ZM180-180h160v-160H180v160Zm440 0h160v-160H620v160Z\"/>\n",
              "  </svg>\n",
              "    </button>\n",
              "\n",
              "  <style>\n",
              "    .colab-df-container {\n",
              "      display:flex;\n",
              "      gap: 12px;\n",
              "    }\n",
              "\n",
              "    .colab-df-convert {\n",
              "      background-color: #E8F0FE;\n",
              "      border: none;\n",
              "      border-radius: 50%;\n",
              "      cursor: pointer;\n",
              "      display: none;\n",
              "      fill: #1967D2;\n",
              "      height: 32px;\n",
              "      padding: 0 0 0 0;\n",
              "      width: 32px;\n",
              "    }\n",
              "\n",
              "    .colab-df-convert:hover {\n",
              "      background-color: #E2EBFA;\n",
              "      box-shadow: 0px 1px 2px rgba(60, 64, 67, 0.3), 0px 1px 3px 1px rgba(60, 64, 67, 0.15);\n",
              "      fill: #174EA6;\n",
              "    }\n",
              "\n",
              "    .colab-df-buttons div {\n",
              "      margin-bottom: 4px;\n",
              "    }\n",
              "\n",
              "    [theme=dark] .colab-df-convert {\n",
              "      background-color: #3B4455;\n",
              "      fill: #D2E3FC;\n",
              "    }\n",
              "\n",
              "    [theme=dark] .colab-df-convert:hover {\n",
              "      background-color: #434B5C;\n",
              "      box-shadow: 0px 1px 3px 1px rgba(0, 0, 0, 0.15);\n",
              "      filter: drop-shadow(0px 1px 2px rgba(0, 0, 0, 0.3));\n",
              "      fill: #FFFFFF;\n",
              "    }\n",
              "  </style>\n",
              "\n",
              "    <script>\n",
              "      const buttonEl =\n",
              "        document.querySelector('#df-41aed412-03ce-4e56-9a09-4de58b250df5 button.colab-df-convert');\n",
              "      buttonEl.style.display =\n",
              "        google.colab.kernel.accessAllowed ? 'block' : 'none';\n",
              "\n",
              "      async function convertToInteractive(key) {\n",
              "        const element = document.querySelector('#df-41aed412-03ce-4e56-9a09-4de58b250df5');\n",
              "        const dataTable =\n",
              "          await google.colab.kernel.invokeFunction('convertToInteractive',\n",
              "                                                    [key], {});\n",
              "        if (!dataTable) return;\n",
              "\n",
              "        const docLinkHtml = 'Like what you see? Visit the ' +\n",
              "          '<a target=\"_blank\" href=https://colab.research.google.com/notebooks/data_table.ipynb>data table notebook</a>'\n",
              "          + ' to learn more about interactive tables.';\n",
              "        element.innerHTML = '';\n",
              "        dataTable['output_type'] = 'display_data';\n",
              "        await google.colab.output.renderOutput(dataTable, element);\n",
              "        const docLink = document.createElement('div');\n",
              "        docLink.innerHTML = docLinkHtml;\n",
              "        element.appendChild(docLink);\n",
              "      }\n",
              "    </script>\n",
              "  </div>\n",
              "\n",
              "\n",
              "<div id=\"df-748e08df-3a78-4100-9fe7-3e711abff846\">\n",
              "  <button class=\"colab-df-quickchart\" onclick=\"quickchart('df-748e08df-3a78-4100-9fe7-3e711abff846')\"\n",
              "            title=\"Suggest charts\"\n",
              "            style=\"display:none;\">\n",
              "\n",
              "<svg xmlns=\"http://www.w3.org/2000/svg\" height=\"24px\"viewBox=\"0 0 24 24\"\n",
              "     width=\"24px\">\n",
              "    <g>\n",
              "        <path d=\"M19 3H5c-1.1 0-2 .9-2 2v14c0 1.1.9 2 2 2h14c1.1 0 2-.9 2-2V5c0-1.1-.9-2-2-2zM9 17H7v-7h2v7zm4 0h-2V7h2v10zm4 0h-2v-4h2v4z\"/>\n",
              "    </g>\n",
              "</svg>\n",
              "  </button>\n",
              "\n",
              "<style>\n",
              "  .colab-df-quickchart {\n",
              "      --bg-color: #E8F0FE;\n",
              "      --fill-color: #1967D2;\n",
              "      --hover-bg-color: #E2EBFA;\n",
              "      --hover-fill-color: #174EA6;\n",
              "      --disabled-fill-color: #AAA;\n",
              "      --disabled-bg-color: #DDD;\n",
              "  }\n",
              "\n",
              "  [theme=dark] .colab-df-quickchart {\n",
              "      --bg-color: #3B4455;\n",
              "      --fill-color: #D2E3FC;\n",
              "      --hover-bg-color: #434B5C;\n",
              "      --hover-fill-color: #FFFFFF;\n",
              "      --disabled-bg-color: #3B4455;\n",
              "      --disabled-fill-color: #666;\n",
              "  }\n",
              "\n",
              "  .colab-df-quickchart {\n",
              "    background-color: var(--bg-color);\n",
              "    border: none;\n",
              "    border-radius: 50%;\n",
              "    cursor: pointer;\n",
              "    display: none;\n",
              "    fill: var(--fill-color);\n",
              "    height: 32px;\n",
              "    padding: 0;\n",
              "    width: 32px;\n",
              "  }\n",
              "\n",
              "  .colab-df-quickchart:hover {\n",
              "    background-color: var(--hover-bg-color);\n",
              "    box-shadow: 0 1px 2px rgba(60, 64, 67, 0.3), 0 1px 3px 1px rgba(60, 64, 67, 0.15);\n",
              "    fill: var(--button-hover-fill-color);\n",
              "  }\n",
              "\n",
              "  .colab-df-quickchart-complete:disabled,\n",
              "  .colab-df-quickchart-complete:disabled:hover {\n",
              "    background-color: var(--disabled-bg-color);\n",
              "    fill: var(--disabled-fill-color);\n",
              "    box-shadow: none;\n",
              "  }\n",
              "\n",
              "  .colab-df-spinner {\n",
              "    border: 2px solid var(--fill-color);\n",
              "    border-color: transparent;\n",
              "    border-bottom-color: var(--fill-color);\n",
              "    animation:\n",
              "      spin 1s steps(1) infinite;\n",
              "  }\n",
              "\n",
              "  @keyframes spin {\n",
              "    0% {\n",
              "      border-color: transparent;\n",
              "      border-bottom-color: var(--fill-color);\n",
              "      border-left-color: var(--fill-color);\n",
              "    }\n",
              "    20% {\n",
              "      border-color: transparent;\n",
              "      border-left-color: var(--fill-color);\n",
              "      border-top-color: var(--fill-color);\n",
              "    }\n",
              "    30% {\n",
              "      border-color: transparent;\n",
              "      border-left-color: var(--fill-color);\n",
              "      border-top-color: var(--fill-color);\n",
              "      border-right-color: var(--fill-color);\n",
              "    }\n",
              "    40% {\n",
              "      border-color: transparent;\n",
              "      border-right-color: var(--fill-color);\n",
              "      border-top-color: var(--fill-color);\n",
              "    }\n",
              "    60% {\n",
              "      border-color: transparent;\n",
              "      border-right-color: var(--fill-color);\n",
              "    }\n",
              "    80% {\n",
              "      border-color: transparent;\n",
              "      border-right-color: var(--fill-color);\n",
              "      border-bottom-color: var(--fill-color);\n",
              "    }\n",
              "    90% {\n",
              "      border-color: transparent;\n",
              "      border-bottom-color: var(--fill-color);\n",
              "    }\n",
              "  }\n",
              "</style>\n",
              "\n",
              "  <script>\n",
              "    async function quickchart(key) {\n",
              "      const quickchartButtonEl =\n",
              "        document.querySelector('#' + key + ' button');\n",
              "      quickchartButtonEl.disabled = true;  // To prevent multiple clicks.\n",
              "      quickchartButtonEl.classList.add('colab-df-spinner');\n",
              "      try {\n",
              "        const charts = await google.colab.kernel.invokeFunction(\n",
              "            'suggestCharts', [key], {});\n",
              "      } catch (error) {\n",
              "        console.error('Error during call to suggestCharts:', error);\n",
              "      }\n",
              "      quickchartButtonEl.classList.remove('colab-df-spinner');\n",
              "      quickchartButtonEl.classList.add('colab-df-quickchart-complete');\n",
              "    }\n",
              "    (() => {\n",
              "      let quickchartButtonEl =\n",
              "        document.querySelector('#df-748e08df-3a78-4100-9fe7-3e711abff846 button');\n",
              "      quickchartButtonEl.style.display =\n",
              "        google.colab.kernel.accessAllowed ? 'block' : 'none';\n",
              "    })();\n",
              "  </script>\n",
              "</div>\n",
              "    </div>\n",
              "  </div>\n"
            ],
            "application/vnd.google.colaboratory.intrinsic+json": {
              "type": "dataframe",
              "variable_name": "data",
              "summary": "{\n  \"name\": \"data\",\n  \"rows\": 97,\n  \"fields\": [\n    {\n      \"column\": \"Artist\",\n      \"properties\": {\n        \"dtype\": \"category\",\n        \"num_unique_values\": 11,\n        \"samples\": [\n          \"(G)I-dle\",\n          \"IZONE\",\n          \"Ateez\"\n        ],\n        \"semantic_type\": \"\",\n        \"description\": \"\"\n      }\n    },\n    {\n      \"column\": \"title\",\n      \"properties\": {\n        \"dtype\": \"string\",\n        \"num_unique_values\": 66,\n        \"samples\": [\n          \"Into the A to Z\",\n          \"Reminiscence\",\n          \"Bloom*iz\"\n        ],\n        \"semantic_type\": \"\",\n        \"description\": \"\"\n      }\n    },\n    {\n      \"column\": \"date\",\n      \"properties\": {\n        \"dtype\": \"date\",\n        \"min\": \"2017-03-13 00:00:00\",\n        \"max\": \"2021-03-24 00:00:00\",\n        \"num_unique_values\": 66,\n        \"samples\": [\n          \"2021-03-24 00:00:00\",\n          \"2020-02-03 00:00:00\",\n          \"2020-02-17 00:00:00\"\n        ],\n        \"semantic_type\": \"\",\n        \"description\": \"\"\n      }\n    },\n    {\n      \"column\": \"country\",\n      \"properties\": {\n        \"dtype\": \"category\",\n        \"num_unique_values\": 3,\n        \"samples\": [\n          \"KOR\",\n          \"JPN\",\n          \"CHN\"\n        ],\n        \"semantic_type\": \"\",\n        \"description\": \"\"\n      }\n    },\n    {\n      \"column\": \"sales\",\n      \"properties\": {\n        \"dtype\": \"number\",\n        \"std\": 134943,\n        \"min\": 1063,\n        \"max\": 559138,\n        \"num_unique_values\": 97,\n        \"samples\": [\n          24080,\n          102041,\n          1649\n        ],\n        \"semantic_type\": \"\",\n        \"description\": \"\"\n      }\n    },\n    {\n      \"column\": \"peak_chart\",\n      \"properties\": {\n        \"dtype\": \"number\",\n        \"std\": 10,\n        \"min\": 0,\n        \"max\": 48,\n        \"num_unique_values\": 25,\n        \"samples\": [\n          47,\n          23,\n          2\n        ],\n        \"semantic_type\": \"\",\n        \"description\": \"\"\n      }\n    },\n    {\n      \"column\": \"month\",\n      \"properties\": {\n        \"dtype\": \"category\",\n        \"num_unique_values\": 12,\n        \"samples\": [\n          \"November\",\n          \"January\",\n          \"February\"\n        ],\n        \"semantic_type\": \"\",\n        \"description\": \"\"\n      }\n    },\n    {\n      \"column\": \"day\",\n      \"properties\": {\n        \"dtype\": \"category\",\n        \"num_unique_values\": 5,\n        \"samples\": [\n          \"Wednesday\",\n          \"Thursday\",\n          \"Friday\"\n        ],\n        \"semantic_type\": \"\",\n        \"description\": \"\"\n      }\n    },\n    {\n      \"column\": \"year\",\n      \"properties\": {\n        \"dtype\": \"int32\",\n        \"num_unique_values\": 5,\n        \"samples\": [\n          2018,\n          2017,\n          2019\n        ],\n        \"semantic_type\": \"\",\n        \"description\": \"\"\n      }\n    }\n  ]\n}"
            }
          },
          "metadata": {},
          "execution_count": 35
        }
      ]
    },
    {
      "cell_type": "code",
      "source": [
        "sns.lineplot(data,x='year', y='sales')"
      ],
      "metadata": {
        "colab": {
          "base_uri": "https://localhost:8080/",
          "height": 466
        },
        "id": "NFlmlCUqW3je",
        "outputId": "4b1f1bea-be8d-4bf6-ba97-870533a0ac4b"
      },
      "execution_count": null,
      "outputs": [
        {
          "output_type": "execute_result",
          "data": {
            "text/plain": [
              "<Axes: xlabel='year', ylabel='sales'>"
            ]
          },
          "metadata": {},
          "execution_count": 44
        },
        {
          "output_type": "display_data",
          "data": {
            "text/plain": [
              "<Figure size 640x480 with 1 Axes>"
            ],
            "image/png": "[encoded data removed]"
          },
          "metadata": {}
        }
      ]
    },
    {
      "cell_type": "markdown",
      "source": [
        "Selama rentang waktu dari tahun 2017 hingga 2021, terdapat tren kenaikan yang signifikan dalam rata-rata penjualan industri K-pop generasi keempat. Data menunjukkan bahwa penjualan terus meningkat dari tahun ke tahun, mencerminkan popularitas yang terus berkembang dari musik K-pop di seluruh dunia. Hal ini menandakan bahwa K-pop generasi keempat memegang peranan penting dalam pasar musik global dan menunjukkan bahwa minat publik terhadap genre ini terus berkembang dari waktu ke waktu."
      ],
      "metadata": {
        "id": "PfyHRJr5YQe5"
      }
    },
    {
      "cell_type": "code",
      "source": [
        "print(data.groupby(['month'])['sales'].count().sort_values(ascending=False))\n",
        "\n",
        "plt.figure(figsize=(11,5))\n",
        "sns.barplot(\n",
        "    data.groupby(['month'])['sales'].count().sort_values(ascending=False).reset_index(),\n",
        "    x='month', y='sales')"
      ],
      "metadata": {
        "colab": {
          "base_uri": "https://localhost:8080/",
          "height": 725
        },
        "id": "Jtk5LhprYWG5",
        "outputId": "f16e0a40-aace-4248-ed53-6bf78510b406"
      },
      "execution_count": null,
      "outputs": [
        {
          "output_type": "stream",
          "name": "stdout",
          "text": [
            "month\n",
            "March        14\n",
            "October      14\n",
            "January      13\n",
            "April        10\n",
            "August       10\n",
            "February      8\n",
            "June          6\n",
            "May           6\n",
            "July          5\n",
            "September     5\n",
            "December      4\n",
            "November      2\n",
            "Name: sales, dtype: int64\n"
          ]
        },
        {
          "output_type": "execute_result",
          "data": {
            "text/plain": [
              "<Axes: xlabel='month', ylabel='sales'>"
            ]
          },
          "metadata": {},
          "execution_count": 45
        },
        {
          "output_type": "display_data",
          "data": {
            "text/plain": [
              "<Figure size 1100x500 with 1 Axes>"
            ],
            "image/png": "[encoded data removed]"
          },
          "metadata": {}
        }
      ]
    },
    {
      "cell_type": "markdown",
      "source": [
        "Selama rentang waktu 2017 hingga 2021, bulan Maret, Oktober, dan Januari menonjol sebagai bulan di mana lagu-lagu K-pop mencapai puncak penjualannya. Fenomena ini menunjukkan bahwa ada tren yang konsisten dalam preferensi pendengar selama periode tersebut, dengan lagu-lagu yang dirilis pada bulan-bulan tersebut cenderung mendapatkan respons yang lebih besar dari penggemar. Hal ini menunjukkan pentingnya penempatan strategis dalam kalender perilisan lagu bagi artis dan produsen musik untuk memaksimalkan dampak dan keberhasilan lagu-lagu mereka di pasaran."
      ],
      "metadata": {
        "id": "zn48MU_MYcjz"
      }
    },
    {
      "cell_type": "code",
      "source": [
        "print(data.pivot_table(index='Artist',\n",
        "                     columns='day',\n",
        "                     values='sales',\n",
        "                     aggfunc='count',\n",
        "                     fill_value='-'))\n",
        "\n",
        "plt.figure(figsize=(11,5))\n",
        "sns.barplot(\n",
        "    data.groupby(['day'])['sales'].count().sort_values(ascending=False).reset_index(),\n",
        "    x='day', y='sales')"
      ],
      "metadata": {
        "colab": {
          "base_uri": "https://localhost:8080/",
          "height": 708
        },
        "id": "12zAG0aIYqX9",
        "outputId": "142721ef-e315-4fe4-f687-6584871eea9e"
      },
      "execution_count": null,
      "outputs": [
        {
          "output_type": "stream",
          "name": "stdout",
          "text": [
            "day        Friday Monday Thursday Tuesday Wednesday\n",
            "Artist                                             \n",
            "(G)I-dle        -    6.0        -     1.0       2.0\n",
            "Ateez           -    6.0        -     2.0       6.0\n",
            "Cravity       2.0      -        -     4.0         -\n",
            "Everglow        -    5.0        -       -         -\n",
            "ITZY            -    4.0        -       -       2.0\n",
            "IZONE           -    7.0        -       -       3.0\n",
            "Loona           -    3.0      2.0     2.0       2.0\n",
            "Stray Kids      -   14.0        -       -       3.0\n",
            "TXT             -    8.0        -       -       1.0\n",
            "Treasure      3.0    2.0        -       -         -\n",
            "Verivery        -      -        -     3.0       4.0\n"
          ]
        },
        {
          "output_type": "execute_result",
          "data": {
            "text/plain": [
              "<Axes: xlabel='day', ylabel='sales'>"
            ]
          },
          "metadata": {},
          "execution_count": 48
        },
        {
          "output_type": "display_data",
          "data": {
            "text/plain": [
              "<Figure size 1100x500 with 1 Axes>"
            ],
            "image/png": "[encoded data removed]"
          },
          "metadata": {}
        }
      ]
    },
    {
      "cell_type": "markdown",
      "source": [
        "Terdapat kecenderungan bahwa artis K-pop sering kali merilis lagu-lagu baru dan melakukan penampilan di berbagai acara pada hari Senin. Hal ini mungkin disebabkan oleh strategi pemasaran yang cermat, dengan tujuan untuk menarik perhatian penggemar di awal minggu dan menciptakan momentum yang kuat untuk karya baru mereka. Dengan demikian, Senin menjadi hari yang penting dalam kalender perilisan musik dan aktivitas promosi bagi artis K-pop."
      ],
      "metadata": {
        "id": "azhhgctaeUGc"
      }
    },
    {
      "cell_type": "code",
      "source": [
        "print(data.groupby(['Artist'])['sales'].sum().reset_index())\n",
        "\n",
        "plt.figure(figsize=(10,5))\n",
        "sns.barplot(\n",
        "    data.groupby(['Artist'])['sales'].sum().reset_index(),\n",
        "    x='Artist',\n",
        "    y='sales')"
      ],
      "metadata": {
        "colab": {
          "base_uri": "https://localhost:8080/",
          "height": 706
        },
        "id": "IOGn4BVDeZcm",
        "outputId": "5313305b-5f0a-4177-fc9e-fad33fe2d0be"
      },
      "execution_count": null,
      "outputs": [
        {
          "output_type": "stream",
          "name": "stdout",
          "text": [
            "        Artist    sales\n",
            "0     (G)I-dle   787686\n",
            "1        Ateez  1588505\n",
            "2      Cravity   510279\n",
            "3     Everglow   138621\n",
            "4         ITZY   560073\n",
            "5        IZONE  2356819\n",
            "6        Loona   357581\n",
            "7   Stray Kids  1916965\n",
            "8          TXT  1692632\n",
            "9     Treasure  1112672\n",
            "10    Verivery   236177\n"
          ]
        },
        {
          "output_type": "execute_result",
          "data": {
            "text/plain": [
              "<Axes: xlabel='Artist', ylabel='sales'>"
            ]
          },
          "metadata": {},
          "execution_count": 49
        },
        {
          "output_type": "display_data",
          "data": {
            "text/plain": [
              "<Figure size 1000x500 with 1 Axes>"
            ],
            "image/png": "[encoded data removed]"
          },
          "metadata": {}
        }
      ]
    },
    {
      "cell_type": "markdown",
      "source": [
        "Selama lima tahun terakhir, dari 2017 hingga 2021, IZONE telah menjadi penguasa utama dalam industri K-pop dengan penjualan yang mendominasi. Mereka berhasil mencatat prestasi sebagai artis terlaris dalam rentang waktu tersebut, menegaskan posisi mereka sebagai salah satu kekuatan utama di dunia musik Korea. Dengan penjualan yang terus meningkat dari tahun ke tahun, IZONE telah mengukuhkan diri sebagai salah satu dari sedikit artis yang mampu mencapai kesuksesan yang luar biasa dalam industri yang kompetitif ini."
      ],
      "metadata": {
        "id": "pZCqqJZkefku"
      }
    },
    {
      "cell_type": "code",
      "source": [
        "print(\"Artis's sales through out the year\")\n",
        "print(data.pivot_table(index ='Artist',\n",
        "                       columns='year',\n",
        "                       values ='sales',\n",
        "                       aggfunc ='sum',fill_value='-'))\n",
        "print('='*70)\n",
        "print('How many times Artists release their songs for the past 5 years')\n",
        "print(data.pivot_table(index ='Artist',\n",
        "                       columns='year',\n",
        "                       values ='sales',\n",
        "                       aggfunc ='count',fill_value='-'))\n",
        "\n"
      ],
      "metadata": {
        "colab": {
          "base_uri": "https://localhost:8080/"
        },
        "id": "8QISNo0Qejel",
        "outputId": "f6533c09-51d8-4fc3-9e9e-dca59a725440"
      },
      "execution_count": null,
      "outputs": [
        {
          "output_type": "stream",
          "name": "stdout",
          "text": [
            "Artis's sales through out the year\n",
            "year           2017      2018      2019     2020      2021\n",
            "Artist                                                    \n",
            "(G)I-dle          -   51831.0   59270.0   468658  207927.0\n",
            "Ateez             -   85109.0  505485.0   595360  402551.0\n",
            "Cravity           -         -         -   339274  171005.0\n",
            "Everglow          -         -   56672.0    81949         -\n",
            "ITZY              -         -  165091.0   394982         -\n",
            "IZONE             -  331550.0         -  2025269         -\n",
            "Loona       32059.0   79604.0   45782.0   200136         -\n",
            "Stray Kids        -  659473.0  684604.0   572888         -\n",
            "TXT               -         -  620228.0   970363  102041.0\n",
            "Treasure          -         -         -   721460  391212.0\n",
            "Verivery          -         -   58408.0   127770   49999.0\n",
            "======================================================================\n",
            "How many times Artists release their songs for the past 5 years\n",
            "year       2017 2018 2019  2020 2021\n",
            "Artist                              \n",
            "(G)I-dle      -  1.0  2.0     5  1.0\n",
            "Ateez         -  1.0  5.0     5  3.0\n",
            "Cravity       -    -    -     4  2.0\n",
            "Everglow      -    -  2.0     3    -\n",
            "ITZY          -    -  2.0     4    -\n",
            "IZONE         -  2.0    -     8    -\n",
            "Loona       4.0  2.0  1.0     2    -\n",
            "Stray Kids    -  8.0  6.0     3    -\n",
            "TXT           -    -  4.0     4  1.0\n",
            "Treasure      -    -    -     3  2.0\n",
            "Verivery      -    -  3.0     3  1.0\n"
          ]
        }
      ]
    },
    {
      "cell_type": "code",
      "source": [
        "plt.figure(figsize=(10,5))\n",
        "sns.barplot(\n",
        "    data.groupby(['Artist', 'year'])['sales'].count().reset_index(),\n",
        "    x='Artist',\n",
        "    y='sales',\n",
        "    hue='year').set(title='Sales Artist by Year')\n"
      ],
      "metadata": {
        "colab": {
          "base_uri": "https://localhost:8080/",
          "height": 504
        },
        "id": "_NW_Zu5yesTs",
        "outputId": "b245dd12-a638-44eb-96b2-b818bd8d09e3"
      },
      "execution_count": null,
      "outputs": [
        {
          "output_type": "execute_result",
          "data": {
            "text/plain": [
              "[Text(0.5, 1.0, 'Sales Artist by Year')]"
            ]
          },
          "metadata": {},
          "execution_count": 51
        },
        {
          "output_type": "display_data",
          "data": {
            "text/plain": [
              "<Figure size 1000x500 with 1 Axes>"
            ],
            "image/png": "[encoded data removed]"
          },
          "metadata": {}
        }
      ]
    },
    {
      "cell_type": "code",
      "source": [
        "plt.figure(figsize=(10,5))\n",
        "sns.barplot(\n",
        "    data.groupby(['Artist', 'year'])['sales'].sum().reset_index(),\n",
        "    x='Artist',\n",
        "    y='sales',\n",
        "    hue='year').set(title='Sales Artist by Year')\n"
      ],
      "metadata": {
        "colab": {
          "base_uri": "https://localhost:8080/",
          "height": 504
        },
        "id": "WFNWyyvUexu3",
        "outputId": "38397b07-00fc-4e5b-cbc8-d24c1e6e4a2f"
      },
      "execution_count": null,
      "outputs": [
        {
          "output_type": "execute_result",
          "data": {
            "text/plain": [
              "[Text(0.5, 1.0, 'Sales Artist by Year')]"
            ]
          },
          "metadata": {},
          "execution_count": 53
        },
        {
          "output_type": "display_data",
          "data": {
            "text/plain": [
              "<Figure size 1000x500 with 1 Axes>"
            ],
            "image/png": "[encoded data removed]"
          },
          "metadata": {}
        }
      ]
    },
    {
      "cell_type": "markdown",
      "source": [
        "KESIMPULAN:\n",
        "Rata-rata penjualan K-pop generasi ke-4 menunjukkan kecenderungan peningkatan yang stabil dari tahun 2017 hingga 2021, mencerminkan daya tarik yang terus berkembang dari genre musik ini di pasar global. Selama rentang waktu ini, bulan Maret, Oktober, dan Januari mencatat penjualan paling tinggi, sementara mayoritas perilisan lagu terjadi pada hari Senin. Fenomena ini menunjukkan pola konsumsi yang konsisten dan kemungkinan besar terkait dengan strategi pemasaran yang dipilih oleh pelaku industri.\n",
        "\n",
        "IZONE secara konsisten menonjol sebagai artis terlaris dalam industri K-pop selama periode 2017 hingga 2021. Puncak penjualan mereka terjadi pada tahun 2020, menandai dominasi mereka dalam pasar musik. Meskipun begitu, hal ini tidak mengurangi kompetisi yang ketat di antara artis lainnya. Selain IZONE, ada sejumlah artis lain yang menghasilkan lagu-lagu dengan penjualan yang bersaing, menunjukkan keberagaman dan dinamika dalam industri K-pop.\n",
        "\n",
        "Tren pertumbuhan yang konsisten dalam rata-rata penjualan K-pop generasi ke-4 dari tahun 2017 hingga 2021 menunjukkan kekuatan yang berkelanjutan dari genre musik ini. Dukungan konsumen yang kuat, strategi pemasaran yang efektif, dan keberhasilan artis-artis terkemuka seperti IZONE telah mendorong pertumbuhan dan keberlanjutan industri K-pop dalam skala global.\n"
      ],
      "metadata": {
        "id": "CdhWgH9le_UR"
      }
    }
  ]
}